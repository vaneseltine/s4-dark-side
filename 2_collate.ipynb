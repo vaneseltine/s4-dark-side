{
 "cells": [
  {
   "cell_type": "markdown",
   "id": "c32531c0",
   "metadata": {},
   "source": [
    "## Setup and imports"
   ]
  },
  {
   "cell_type": "code",
   "execution_count": 1,
   "id": "690120a1",
   "metadata": {
    "scrolled": true
   },
   "outputs": [
    {
     "name": "stdout",
     "output_type": "stream",
     "text": [
      "\u001b[33mWARNING: Value for scheme.headers does not match. Please report this to <https://github.com/pypa/pip/issues/9617>\n",
      "distutils: /opt/conda/include/python3.8/UNKNOWN\n",
      "sysconfig: /opt/conda/include/python3.8\u001b[0m\n",
      "\u001b[33mWARNING: Additional context:\n",
      "user = False\n",
      "home = None\n",
      "root = None\n",
      "prefix = None\u001b[0m\n",
      "Requirement already satisfied: pyarrow in /opt/conda/lib/python3.8/site-packages (9.0.0)\n",
      "Requirement already satisfied: numpy>=1.16.6 in /opt/conda/lib/python3.8/site-packages (from pyarrow) (1.19.5)\n",
      "\u001b[33mWARNING: Value for scheme.headers does not match. Please report this to <https://github.com/pypa/pip/issues/9617>\n",
      "distutils: /opt/conda/include/python3.8/UNKNOWN\n",
      "sysconfig: /opt/conda/include/python3.8\u001b[0m\n",
      "\u001b[33mWARNING: Additional context:\n",
      "user = False\n",
      "home = None\n",
      "root = None\n",
      "prefix = None\u001b[0m\n",
      "Note: you may need to restart the kernel to use updated packages.\n"
     ]
    }
   ],
   "source": [
    "%pip install pyarrow"
   ]
  },
  {
   "cell_type": "code",
   "execution_count": 2,
   "id": "787d5278",
   "metadata": {},
   "outputs": [],
   "source": [
    "import math\n",
    "import json\n",
    "from pathlib import Path\n",
    "import pickle\n",
    "import time\n",
    "\n",
    "from IPython.display import display, clear_output\n",
    "import numpy as np\n",
    "import pandas as pd\n",
    "import requests\n",
    "\n",
    "%matplotlib inline\n",
    "\n",
    "# for i in range(10):\n",
    "#     clear_output(wait=True)\n",
    "#     print(i)\n",
    "#     time.sleep(0.1)\n",
    "\n",
    "DATA_DIR = Path('./data')\n",
    "UNRETRACTED_DIR = DATA_DIR / 'json_collecting'\n",
    "tester = DATA_DIR / 'test.txt'\n",
    "tester.touch()\n",
    "assert tester.exists()\n",
    "\n",
    "PER_PAGE = 200 # API max\n",
    "SHARED_FILTERS = \"type:journal-article,publication_year:>2010,publication_year:<2018\""
   ]
  },
  {
   "cell_type": "markdown",
   "id": "49cdc264",
   "metadata": {},
   "source": [
    "## Now to collate"
   ]
  },
  {
   "cell_type": "code",
   "execution_count": 3,
   "id": "73febb2e",
   "metadata": {},
   "outputs": [
    {
     "name": "stdout",
     "output_type": "stream",
     "text": [
      "9549\n",
      "9546\n"
     ]
    }
   ],
   "source": [
    "with Path(DATA_DIR / 'raw_retracted.json').open('r', encoding='UTF-8') as infile:\n",
    "    raw_records = json.load(infile)\n",
    "\n",
    "# keep only (retracted) records with valid ['host_venue']['id']\n",
    "# -- since we're matching year/journal we could have done this first but it hadn't occurred to me\n",
    "print(len(raw_records))\n",
    "records = [r for r in raw_records if r['host_venue']['id']]\n",
    "print(len(records))\n",
    "del raw_records\n",
    "# 9,549 -> 9,546"
   ]
  },
  {
   "cell_type": "code",
   "execution_count": 5,
   "id": "43e34b8b",
   "metadata": {},
   "outputs": [
    {
     "name": "stdout",
     "output_type": "stream",
     "text": [
      "5259 of 5259 data/json_collecting/V175922936-2013.json\n",
      "...now 113937 records.\n"
     ]
    }
   ],
   "source": [
    "# turns out this is a real memory issue\n",
    "MAX_UNRETRACTED_RECORDS_PER = 20\n",
    "\n",
    "# make sure we don't run this twice; but I don't want to make a copy and burn memory\n",
    "assert len(records) == 9546 \n",
    "\n",
    "# then append the new unretracted jsons -- remember these were straight saved and include the 'meta' \n",
    "unretracted_file_list = list(UNRETRACTED_DIR.glob('*.json'))\n",
    "n_unretracted = len(unretracted_file_list)\n",
    "for i, path in enumerate(unretracted_file_list):\n",
    "    clear_output(wait=True)\n",
    "    print(i+1, 'of', n_unretracted, path)\n",
    "    with path.open('r', encoding='UTF-8') as infile:\n",
    "        j = json.load(infile)\n",
    "        result_subset = j['results'][:MAX_UNRETRACTED_RECORDS_PER]\n",
    "        records += result_subset\n",
    "    print(f'...now {len(records)} records.')\n",
    "\n",
    "raw_collated_path = DATA_DIR / 'raw_collated.json'    \n",
    "# json is only about 20% inflated over pkl\n",
    "with raw_collated_path.open('w', encoding='UTF-8') as outfile:\n",
    "    json.dump(records, outfile)"
   ]
  },
  {
   "cell_type": "code",
   "execution_count": 6,
   "id": "20f04f5a",
   "metadata": {},
   "outputs": [],
   "source": [
    "# fresh start with no records, memory is at 0.2 GB\n",
    "# with n =   9,546 in records, memory is at 0.7 GB (MAX_UNRETRACTED_RECORDS_PER = 0)\n",
    "# with n =  20,000 in records, memory is at 1.1 GB (MAX_UNRETRACTED_RECORDS_PER = 2)\n",
    "# with n =  61,995 in records, memory is at 3.1 GB (MAX_UNRETRACTED_RECORDS_PER = 10)\n",
    "# with n = 113,937 in records, memory is at 5.3 GB (MAX_UNRETRACTED_RECORDS_PER = 20)\n",
    "\n",
    "# 113,937 records is ~1.2 GB on disk."
   ]
  },
  {
   "cell_type": "code",
   "execution_count": 14,
   "id": "f1792588",
   "metadata": {
    "scrolled": true
   },
   "outputs": [
    {
     "name": "stdout",
     "output_type": "stream",
     "text": [
      "1.1 gb\n"
     ]
    }
   ],
   "source": [
    "import os\n",
    "print(round(os.path.getsize(raw_collated_path) / (1024*1024*1024), 1), 'gb')"
   ]
  }
 ],
 "metadata": {
  "author": "me",
  "kernelspec": {
   "display_name": "Python 3",
   "language": "python",
   "name": "python3"
  },
  "language_info": {
   "codemirror_mode": {
    "name": "ipython",
    "version": 3
   },
   "file_extension": ".py",
   "mimetype": "text/x-python",
   "name": "python",
   "nbconvert_exporter": "python",
   "pygments_lexer": "ipython3",
   "version": "3.8.8"
  },
  "latex_envs": {
   "LaTeX_envs_menu_present": true,
   "autoclose": false,
   "autocomplete": true,
   "bibliofile": "biblio.bib",
   "cite_by": "apalike",
   "current_citInitial": 1,
   "eqLabelWithNumbers": true,
   "eqNumInitial": 1,
   "hotkeys": {
    "equation": "Ctrl-E",
    "itemize": "Ctrl-I"
   },
   "labels_anchors": false,
   "latex_user_defs": false,
   "report_style_numbering": false,
   "user_envs_cfg": false
  },
  "toc": {
   "base_numbering": 1,
   "nav_menu": {},
   "number_sections": true,
   "sideBar": true,
   "skip_h1_title": false,
   "title_cell": "Table of Contents",
   "title_sidebar": "Contents",
   "toc_cell": false,
   "toc_position": {},
   "toc_section_display": true,
   "toc_window_display": false
  }
 },
 "nbformat": 4,
 "nbformat_minor": 5
}
